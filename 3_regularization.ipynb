{
 "cells": [
  {
   "cell_type": "markdown",
   "metadata": {
    "colab_type": "text",
    "id": "kR-4eNdK6lYS"
   },
   "source": [
    "Deep Learning\n",
    "=============\n",
    "\n",
    "Assignment 3\n",
    "------------\n",
    "\n",
    "Previously in `2_fullyconnected.ipynb`, you trained a logistic regression and a neural network model.\n",
    "\n",
    "The goal of this assignment is to explore regularization techniques."
   ]
  },
  {
   "cell_type": "code",
   "execution_count": 1,
   "metadata": {
    "cellView": "both",
    "colab": {
     "autoexec": {
      "startup": false,
      "wait_interval": 0
     }
    },
    "colab_type": "code",
    "collapsed": true,
    "id": "JLpLa8Jt7Vu4"
   },
   "outputs": [],
   "source": [
    "# These are all the modules we'll be using later. Make sure you can import them\n",
    "# before proceeding further.\n",
    "from __future__ import print_function\n",
    "import numpy as np\n",
    "import tensorflow as tf\n",
    "from six.moves import cPickle as pickle"
   ]
  },
  {
   "cell_type": "markdown",
   "metadata": {
    "colab_type": "text",
    "id": "1HrCK6e17WzV"
   },
   "source": [
    "First reload the data we generated in _notmist.ipynb_."
   ]
  },
  {
   "cell_type": "code",
   "execution_count": 2,
   "metadata": {
    "cellView": "both",
    "colab": {
     "autoexec": {
      "startup": false,
      "wait_interval": 0
     },
     "output_extras": [
      {
       "item_id": 1
      }
     ]
    },
    "colab_type": "code",
    "collapsed": false,
    "executionInfo": {
     "elapsed": 11777,
     "status": "ok",
     "timestamp": 1449849322348,
     "user": {
      "color": "",
      "displayName": "",
      "isAnonymous": false,
      "isMe": true,
      "permissionId": "",
      "photoUrl": "",
      "sessionId": "0",
      "userId": ""
     },
     "user_tz": 480
    },
    "id": "y3-cj1bpmuxc",
    "outputId": "e03576f1-ebbe-4838-c388-f1777bcc9873"
   },
   "outputs": [
    {
     "name": "stdout",
     "output_type": "stream",
     "text": [
      "Training set (200000, 28, 28) (200000,)\n",
      "Validation set (10000, 28, 28) (10000,)\n",
      "Test set (10000, 28, 28) (10000,)\n"
     ]
    }
   ],
   "source": [
    "pickle_file = 'notMNIST.pickle'\n",
    "\n",
    "with open(pickle_file, 'rb') as f:\n",
    "  save = pickle.load(f)\n",
    "  train_dataset = save['train_dataset']\n",
    "  train_labels = save['train_labels']\n",
    "  valid_dataset = save['valid_dataset']\n",
    "  valid_labels = save['valid_labels']\n",
    "  test_dataset = save['test_dataset']\n",
    "  test_labels = save['test_labels']\n",
    "  del save  # hint to help gc free up memory\n",
    "  print('Training set', train_dataset.shape, train_labels.shape)\n",
    "  print('Validation set', valid_dataset.shape, valid_labels.shape)\n",
    "  print('Test set', test_dataset.shape, test_labels.shape)"
   ]
  },
  {
   "cell_type": "markdown",
   "metadata": {
    "colab_type": "text",
    "id": "L7aHrm6nGDMB"
   },
   "source": [
    "Reformat into a shape that's more adapted to the models we're going to train:\n",
    "- data as a flat matrix,\n",
    "- labels as float 1-hot encodings."
   ]
  },
  {
   "cell_type": "code",
   "execution_count": 3,
   "metadata": {
    "cellView": "both",
    "colab": {
     "autoexec": {
      "startup": false,
      "wait_interval": 0
     },
     "output_extras": [
      {
       "item_id": 1
      }
     ]
    },
    "colab_type": "code",
    "collapsed": false,
    "executionInfo": {
     "elapsed": 11728,
     "status": "ok",
     "timestamp": 1449849322356,
     "user": {
      "color": "",
      "displayName": "",
      "isAnonymous": false,
      "isMe": true,
      "permissionId": "",
      "photoUrl": "",
      "sessionId": "0",
      "userId": ""
     },
     "user_tz": 480
    },
    "id": "IRSyYiIIGIzS",
    "outputId": "3f8996ee-3574-4f44-c953-5c8a04636582"
   },
   "outputs": [
    {
     "name": "stdout",
     "output_type": "stream",
     "text": [
      "Training set (200000, 784) (200000, 10)\n",
      "Validation set (10000, 784) (10000, 10)\n",
      "Test set (10000, 784) (10000, 10)\n"
     ]
    }
   ],
   "source": [
    "image_size = 28\n",
    "num_labels = 10\n",
    "\n",
    "def reformat(dataset, labels):\n",
    "  dataset = dataset.reshape((-1, image_size * image_size)).astype(np.float32)\n",
    "  # Map 2 to [0.0, 1.0, 0.0 ...], 3 to [0.0, 0.0, 1.0 ...]\n",
    "  labels = (np.arange(num_labels) == labels[:,None]).astype(np.float32)\n",
    "  return dataset, labels\n",
    "train_dataset, train_labels = reformat(train_dataset, train_labels)\n",
    "valid_dataset, valid_labels = reformat(valid_dataset, valid_labels)\n",
    "test_dataset, test_labels = reformat(test_dataset, test_labels)\n",
    "print('Training set', train_dataset.shape, train_labels.shape)\n",
    "print('Validation set', valid_dataset.shape, valid_labels.shape)\n",
    "print('Test set', test_dataset.shape, test_labels.shape)"
   ]
  },
  {
   "cell_type": "code",
   "execution_count": 4,
   "metadata": {
    "cellView": "both",
    "colab": {
     "autoexec": {
      "startup": false,
      "wait_interval": 0
     }
    },
    "colab_type": "code",
    "collapsed": true,
    "id": "RajPLaL_ZW6w"
   },
   "outputs": [],
   "source": [
    "def accuracy(predictions, labels):\n",
    "  return (100.0 * np.sum(np.argmax(predictions, 1) == np.argmax(labels, 1))\n",
    "          / predictions.shape[0])"
   ]
  },
  {
   "cell_type": "markdown",
   "metadata": {
    "colab_type": "text",
    "id": "sgLbUAQ1CW-1"
   },
   "source": [
    "---\n",
    "Problem 1\n",
    "---------\n",
    "\n",
    "Introduce and tune L2 regularization for both logistic and neural network models. Remember that L2 amounts to adding a penalty on the norm of the weights to the loss. In TensorFlow, you can compute the L2 loss for a tensor `t` using `nn.l2_loss(t)`. The right amount of regularization should improve your validation / test accuracy.\n",
    "\n",
    "---"
   ]
  },
  {
   "cell_type": "code",
   "execution_count": 5,
   "metadata": {
    "collapsed": false
   },
   "outputs": [],
   "source": [
    "tot_samples = 100000\n",
    "g1 = tf.Graph()\n",
    "with g1.as_default():\n",
    "    tf_train_dataset = tf.constant(train_dataset[:tot_samples,:])\n",
    "    tf_train_labels = tf.constant(train_labels[:tot_samples,:])\n",
    "    tf_val_dataset = tf.constant(valid_dataset)\n",
    "    tf_test_dataset = tf.constant(test_dataset)\n",
    "    beta_regul = tf.placeholder(tf.float32)\n",
    "    \n",
    "    weights = tf.Variable(tf.truncated_normal([784,10]))\n",
    "    biases = tf.Variable(tf.zeros([10]))\n",
    "    \n",
    "    logits = tf.matmul(tf_train_dataset,weights) + biases\n",
    "    cost = tf.nn.softmax_cross_entropy_with_logits(logits,tf_train_labels)\n",
    "    loss = tf.reduce_mean(cost)# + tf.nn.l2_loss(weights)   \n",
    "    optimizer = tf.train.GradientDescentOptimizer(0.5).minimize(loss)\n",
    "       \n",
    "    train_prediction = tf.nn.softmax(logits)    \n",
    "    valid_prediction = tf.matmul(tf_val_dataset,weights) + biases\n",
    "    test_prediction = tf.matmul(tf_test_dataset,weights) + biases    "
   ]
  },
  {
   "cell_type": "code",
   "execution_count": 36,
   "metadata": {
    "collapsed": false,
    "scrolled": true
   },
   "outputs": [
    {
     "name": "stdout",
     "output_type": "stream",
     "text": [
      "train loss at step 0  =  15.3441\n",
      "training accuracy at step 0  =  8.476\n",
      "val accuracy at step 0  =  7.86\n",
      "train loss at step 100  =  2.4227\n",
      "training accuracy at step 100  =  71.715\n",
      "val accuracy at step 100  =  71.24\n",
      "train loss at step 200  =  2.02616\n",
      "training accuracy at step 200  =  74.288\n",
      "val accuracy at step 200  =  73.25\n",
      "train loss at step 300  =  1.8128\n",
      "training accuracy at step 300  =  75.117\n",
      "val accuracy at step 300  =  74.33\n",
      "train loss at step 400  =  1.66666\n",
      "training accuracy at step 400  =  75.693\n",
      "val accuracy at step 400  =  74.91\n",
      "train loss at step 500  =  1.55548\n",
      "training accuracy at step 500  =  76.131\n",
      "val accuracy at step 500  =  75.32\n",
      "train loss at step 600  =  1.46621\n",
      "training accuracy at step 600  =  76.462\n",
      "val accuracy at step 600  =  75.7\n",
      "train loss at step 700  =  1.39225\n",
      "training accuracy at step 700  =  76.771\n",
      "val accuracy at step 700  =  75.86\n",
      "train loss at step 800  =  1.32971\n",
      "training accuracy at step 800  =  77.004\n",
      "val accuracy at step 800  =  76.3\n",
      "train loss at step 900  =  1.27597\n",
      "training accuracy at step 900  =  77.233\n",
      "val accuracy at step 900  =  76.59\n",
      "test accuracy at step 999  =  84.21\n"
     ]
    }
   ],
   "source": [
    "iterations = 1000\n",
    "with tf.Session(graph=g1) as sess:\n",
    "    tf.initialize_all_variables().run()\n",
    "    \n",
    "    for i in range(iterations):\n",
    "        o = sess.run(optimizer)\n",
    "        \n",
    "        if i%100 == 0:\n",
    "            print( \"train loss at step\",i,\" = \",loss.eval())\n",
    "            print( \"training accuracy at step\",i,\" = \",accuracy(train_prediction.eval(),train_labels[:tot_samples,:]))\n",
    "            print( \"val accuracy at step\",i,\" = \",accuracy(valid_prediction.eval(),valid_labels))\n",
    "    print( \"test accuracy at step\",i,\" = \",accuracy(test_prediction.eval(),test_labels))"
   ]
  },
  {
   "cell_type": "code",
   "execution_count": 29,
   "metadata": {
    "collapsed": false
   },
   "outputs": [],
   "source": [
    "g2 = tf.Graph()\n",
    "batch_size = 1000\n",
    "with g2.as_default():\n",
    "    tf_train_dataset = tf.placeholder(tf.float32,shape =(batch_size,784) )\n",
    "    tf_train_labels = tf.placeholder(tf.float32,shape = (batch_size,10))\n",
    "    tf_val_dataset = tf.constant(valid_dataset)\n",
    "    tf_test_dataset = tf.constant(test_dataset)\n",
    "    beta_regul = tf.placeholder(tf.float32)\n",
    "    \n",
    "    weights = tf.Variable(tf.truncated_normal([784,10]))\n",
    "    biases = tf.Variable(tf.zeros([10]))    \n",
    "    \n",
    "    logits = tf.matmul(tf_train_dataset,weights) + biases\n",
    "    \n",
    "    loss = tf.reduce_mean(tf.nn.softmax_cross_entropy_with_logits(logits,tf_train_labels)) + beta_regul*tf.nn.l2_loss(weights)\n",
    "    \n",
    "    optimizer = tf.train.GradientDescentOptimizer(0.5).minimize(loss)\n",
    "    \n",
    "    train_prediction = tf.nn.softmax(logits)\n",
    "    valid_prediction = tf.nn.softmax(tf.matmul(valid_dataset,weights)+biases)\n",
    "    test_prediction = tf.nn.softmax(tf.matmul(test_dataset,weights)+biases)"
   ]
  },
  {
   "cell_type": "code",
   "execution_count": 54,
   "metadata": {
    "collapsed": false
   },
   "outputs": [
    {
     "name": "stdout",
     "output_type": "stream",
     "text": [
      "initilized\n",
      "loss in iteration 0  =  31837.1\n",
      "train accuracy 37.1\n",
      "valid accuracy 33.92\n",
      "loss in iteration 100  =  194.468\n",
      "train accuracy 81.7\n",
      "valid accuracy 80.48\n",
      "loss in iteration 200  =  92.4018\n",
      "train accuracy 84.7\n",
      "valid accuracy 81.78\n",
      "loss in iteration 300  =  59.0532\n",
      "train accuracy 81.8\n",
      "valid accuracy 79.14\n",
      "loss in iteration 400  =  43.4074\n",
      "train accuracy 85.9\n",
      "valid accuracy 83.25\n",
      "test accuracy 90.31\n"
     ]
    }
   ],
   "source": [
    "iterations = 500\n",
    "batch_size = 1000\n",
    "with tf.Session(graph=g4) as sess:\n",
    "    sess.run(tf.initialize_all_variables())\n",
    "    print(\"initilized\")\n",
    "    for i in range(iterations):\n",
    "        offset = (i*batch_size)% (train_labels.shape[0] - batch_size)\n",
    "        \n",
    "        batch_data = train_dataset[offset:(offset+batch_size),:]\n",
    "        batch_labels = train_labels[offset:(offset+batch_size),:]        \n",
    "        feed_d = {tf_train_dataset:batch_data, tf_train_labels:batch_labels,beta_regul:(1e-1)/(i+1)}\n",
    "    #_, l, predictions = session.run([optimizer, loss, train_prediction], feed_dict=feed_dict)\n",
    "        \n",
    "        _, l = sess.run([optimizer, loss],feed_dict=feed_d)\n",
    "        \n",
    "        if i%100 == 0:\n",
    "            print (\"loss in iteration\",i,\" = \",l)\n",
    "            print (\"train accuracy\", accuracy(sess.run(train_prediction,feed_dict=feed_d),batch_labels))\n",
    "            print (\"valid accuracy\", accuracy(valid_prediction.eval(),valid_labels))\n",
    "    print (\"test accuracy\", accuracy(test_prediction.eval(),test_labels))"
   ]
  },
  {
   "cell_type": "code",
   "execution_count": 76,
   "metadata": {
    "collapsed": false
   },
   "outputs": [],
   "source": [
    "def feedforward(data,h1_l_w,h1_l_b,ol_w,ol_b):\n",
    "    temp = tf.matmul(data,h1_l_w) + h1_l_b\n",
    "    temp = tf.nn.relu(temp)\n",
    "    temp = tf.matmul(temp,ol_w) + ol_b\n",
    "    return temp\n",
    "\n",
    "\n",
    "g3 = tf.Graph()\n",
    "with g3.as_default():\n",
    "    tf_train_dataset = tf.placeholder(tf.float32,shape = (batch_size,784))\n",
    "    tf_train_labels = tf.placeholder(tf.float32,shape = (batch_size,10))\n",
    "    tf_val_dataset = valid_dataset\n",
    "    tf_test_dataset = test_dataset\n",
    "    \n",
    "    h1_layer_w = tf.Variable(tf.truncated_normal([784,1024]))\n",
    "    h1_layer_b = tf.Variable(tf.zeros([1024]))\n",
    "    output_layer_w = tf.Variable(tf.truncated_normal([1024,10]))\n",
    "    output_layer_b = tf.Variable(tf.zeros([10]))\n",
    "    \n",
    "    ff = feedforward(tf_train_dataset,h1_layer_w,h1_layer_b,output_layer_w,output_layer_b)\n",
    "    train_prediction = tf.nn.softmax(ff)\n",
    "    loss = tf.reduce_mean(tf.nn.softmax_cross_entropy_with_logits(ff,tf_train_labels))\n",
    "    optimizer = tf.train.GradientDescentOptimizer(0.5).minimize(loss)\n",
    "    \n",
    "    valid_prediction = tf.nn.softmax(feedforward(tf_val_dataset,h1_layer_w,h1_layer_b,output_layer_w,output_layer_b))\n",
    "    test_prediction = tf.nn.softmax(feedforward(tf_test_dataset,h1_layer_w,h1_layer_b,output_layer_w,output_layer_b))"
   ]
  },
  {
   "cell_type": "code",
   "execution_count": 53,
   "metadata": {
    "collapsed": true
   },
   "outputs": [],
   "source": [
    "g4 = tf.Graph()\n",
    "with g4.as_default():\n",
    "    tf_train_dataset = tf.placeholder(tf.float32,shape = (batch_size,784))\n",
    "    tf_train_labels = tf.placeholder(tf.float32,shape = (batch_size,10))\n",
    "    tf_val_dataset = valid_dataset\n",
    "    tf_test_dataset = test_dataset\n",
    "    beta_regul = tf.placeholder(tf.float32)\n",
    "    \n",
    "    h1_layer_w = tf.Variable(tf.truncated_normal([784,1024]))\n",
    "    h1_layer_b = tf.Variable(tf.zeros([1024]))\n",
    "    output_layer_w = tf.Variable(tf.truncated_normal([1024,10]))\n",
    "    output_layer_b = tf.Variable(tf.zeros([10]))\n",
    "    \n",
    "    ff = feedforward(tf_train_dataset,h1_layer_w,h1_layer_b,output_layer_w,output_layer_b)\n",
    "    train_prediction = tf.nn.softmax(ff)\n",
    "    loss = tf.reduce_mean(tf.nn.softmax_cross_entropy_with_logits(ff,tf_train_labels)) + beta_regul*(tf.nn.l2_loss(h1_layer_w) +\n",
    "                                                                                                     tf.nn.l2_loss(output_layer_w))\n",
    "    optimizer = tf.train.GradientDescentOptimizer(0.5).minimize(loss)\n",
    "    \n",
    "    valid_prediction = tf.nn.softmax(feedforward(tf_val_dataset,h1_layer_w,h1_layer_b,output_layer_w,output_layer_b))\n",
    "    test_prediction = tf.nn.softmax(feedforward(tf_test_dataset,h1_layer_w,h1_layer_b,output_layer_w,output_layer_b))"
   ]
  },
  {
   "cell_type": "code",
   "execution_count": 42,
   "metadata": {
    "collapsed": false,
    "scrolled": true
   },
   "outputs": [
    {
     "data": {
      "text/plain": [
       "0.001"
      ]
     },
     "execution_count": 42,
     "metadata": {},
     "output_type": "execute_result"
    }
   ],
   "source": [
    "1e-3"
   ]
  },
  {
   "cell_type": "code",
   "execution_count": 47,
   "metadata": {
    "collapsed": false
   },
   "outputs": [
    {
     "data": {
      "text/plain": [
       "0.00025"
      ]
     },
     "execution_count": 47,
     "metadata": {},
     "output_type": "execute_result"
    }
   ],
   "source": [
    "(1e-1)/400"
   ]
  },
  {
   "cell_type": "markdown",
   "metadata": {
    "colab_type": "text",
    "id": "na8xX2yHZzNF"
   },
   "source": [
    "---\n",
    "Problem 2\n",
    "---------\n",
    "Let's demonstrate an extreme case of overfitting. Restrict your training data to just a few batches. What happens?\n",
    "\n",
    "---"
   ]
  },
  {
   "cell_type": "code",
   "execution_count": 63,
   "metadata": {
    "collapsed": false
   },
   "outputs": [
    {
     "name": "stdout",
     "output_type": "stream",
     "text": [
      "initilized\n",
      "loss in iteration 0  =  31925.2\n",
      "train accuracy 70.0\n",
      "valid accuracy 18.56\n",
      "loss in iteration 100  =  7.42408e+13\n",
      "train accuracy 10.0\n",
      "valid accuracy 20.92\n",
      "loss in iteration 200  =  1.18485e+22\n",
      "train accuracy 50.0\n",
      "valid accuracy 17.93\n",
      "loss in iteration 300  =  1.92519e+31\n",
      "train accuracy 40.0\n",
      "valid accuracy 16.9\n",
      "loss in iteration 400  =  nan\n",
      "train accuracy 10.0\n",
      "valid accuracy 10.0\n",
      "test accuracy 10.0\n"
     ]
    }
   ],
   "source": [
    "#run graph g4 before running this block\n",
    "\n",
    "iterations = 500\n",
    "batch_size = 10\n",
    "with tf.Session(graph=g5) as sess:\n",
    "    sess.run(tf.initialize_all_variables())\n",
    "    print(\"initilized\")\n",
    "    for i in range(iterations):\n",
    "        offset = (i*batch_size)% (train_labels.shape[0] - batch_size)\n",
    "        \n",
    "        batch_data = train_dataset[offset:(offset+batch_size),:]\n",
    "        batch_labels = train_labels[offset:(offset+batch_size),:]        \n",
    "        feed_d = {tf_train_dataset:batch_data, tf_train_labels:batch_labels,beta_regul:(1e-1)/(i+1)}\n",
    "    #_, l, predictions = session.run([optimizer, loss, train_prediction], feed_dict=feed_dict)\n",
    "        \n",
    "        _, l = sess.run([optimizer, loss],feed_dict=feed_d)\n",
    "        \n",
    "        if i%100 == 0:\n",
    "            print (\"loss in iteration\",i,\" = \",l)\n",
    "            print (\"train accuracy\", accuracy(sess.run(train_prediction,feed_dict=feed_d),batch_labels))\n",
    "            print (\"valid accuracy\", accuracy(valid_prediction.eval(),valid_labels))\n",
    "    print (\"test accuracy\", accuracy(test_prediction.eval(),test_labels))"
   ]
  },
  {
   "cell_type": "markdown",
   "metadata": {
    "colab_type": "text",
    "id": "ww3SCBUdlkRc"
   },
   "source": [
    "---\n",
    "Problem 3\n",
    "---------\n",
    "Introduce Dropout on the hidden layer of the neural network. Remember: Dropout should only be introduced during training, not evaluation, otherwise your evaluation results would be stochastic as well. TensorFlow provides `nn.dropout()` for that, but you have to make sure it's only inserted during training.\n",
    "\n",
    "What happens to our extreme overfitting case?\n",
    "\n",
    "---"
   ]
  },
  {
   "cell_type": "code",
   "execution_count": 77,
   "metadata": {
    "collapsed": false
   },
   "outputs": [],
   "source": [
    "def feedforward_train(data,h1_l_w,h1_l_b,ol_w,ol_b):\n",
    "    temp = tf.matmul(data,h1_l_w) + h1_l_b\n",
    "    temp = tf.nn.relu(temp)\n",
    "    temp = tf.nn.dropout(temp,0.5)\n",
    "    temp = tf.matmul(temp,ol_w) + ol_b\n",
    "    return temp\n",
    "\n",
    "\n",
    "batch_size = 1000\n",
    "g5 = tf.Graph()\n",
    "with g5.as_default():\n",
    "    tf_train_dataset = tf.placeholder(tf.float32,shape = (batch_size,784))\n",
    "    tf_train_labels = tf.placeholder(tf.float32,shape = (batch_size,10))\n",
    "    tf_val_dataset = valid_dataset\n",
    "    tf_test_dataset = test_dataset\n",
    "    beta_regul = tf.placeholder(tf.float32)\n",
    "    \n",
    "    h1_layer_w = tf.Variable(tf.truncated_normal([784,1024]))\n",
    "    h1_layer_b = tf.Variable(tf.zeros([1024]))\n",
    "    output_layer_w = tf.Variable(tf.truncated_normal([1024,10]))\n",
    "    output_layer_b = tf.Variable(tf.zeros([10]))\n",
    "    \n",
    "    ff = feedforward_train(tf_train_dataset,h1_layer_w,h1_layer_b,output_layer_w,output_layer_b)\n",
    "    train_prediction = tf.nn.softmax(ff)\n",
    "    loss = tf.reduce_mean(tf.nn.softmax_cross_entropy_with_logits(ff,tf_train_labels)) + beta_regul*(tf.nn.l2_loss(h1_layer_w) +\n",
    "                                                                                                     tf.nn.l2_loss(output_layer_w))\n",
    "    optimizer = tf.train.GradientDescentOptimizer(0.5).minimize(loss)\n",
    "    \n",
    "    valid_prediction = tf.nn.softmax(feedforward(tf_val_dataset,h1_layer_w,h1_layer_b,output_layer_w,output_layer_b))\n",
    "    test_prediction = tf.nn.softmax(feedforward(tf_test_dataset,h1_layer_w,h1_layer_b,output_layer_w,output_layer_b))"
   ]
  },
  {
   "cell_type": "code",
   "execution_count": 78,
   "metadata": {
    "collapsed": false
   },
   "outputs": [
    {
     "name": "stdout",
     "output_type": "stream",
     "text": [
      "loss in iteration 0  =  553.477\n",
      "train accuracy 45.3\n",
      "valid accuracy 45.39\n",
      "loss in iteration 100  =  40.099\n",
      "train accuracy 76.0\n",
      "valid accuracy 80.95\n",
      "loss in iteration 200  =  18.5795\n",
      "train accuracy 77.8\n",
      "valid accuracy 83.27\n",
      "test accuracy 90.28\n"
     ]
    }
   ],
   "source": [
    "iterations = 300\n",
    "\n",
    "with tf.Session(graph=g5) as sess:\n",
    "    sess.run(tf.initialize_all_variables())\n",
    "    for i in range(iterations):\n",
    "        start = (i*batch_size)% (train_labels.shape[0] - batch_size)\n",
    "        end = start+batch_size\n",
    "        train_subset = train_dataset[start:end,:]\n",
    "        train_l_subset = train_labels[start:end,:]\n",
    "        #beta_regul = 1e-3\n",
    "        feed_d = {tf_train_dataset:train_subset,tf_train_labels:train_l_subset,beta_regul:0}\n",
    "        _,l = sess.run([optimizer,loss],feed_dict=feed_d)\n",
    "        \n",
    "        if i%100 == 0:\n",
    "            print (\"loss in iteration\",i,\" = \",l)\n",
    "            print (\"train accuracy\", accuracy(sess.run(train_prediction,feed_dict=feed_d),train_l_subset))\n",
    "            print (\"valid accuracy\", accuracy(valid_prediction.eval(),valid_labels))\n",
    "    print (\"test accuracy\", accuracy(test_prediction.eval(),test_labels))"
   ]
  },
  {
   "cell_type": "markdown",
   "metadata": {
    "colab_type": "text",
    "id": "-b1hTz3VWZjw"
   },
   "source": [
    "---\n",
    "Problem 4\n",
    "---------\n",
    "\n",
    "Try to get the best performance you can using a multi-layer model! The best reported test accuracy using a deep network is [97.1%](http://yaroslavvb.blogspot.com/2011/09/notmnist-dataset.html?showComment=1391023266211#c8758720086795711595).\n",
    "\n",
    "One avenue you can explore is to add multiple layers.\n",
    "\n",
    "Another one is to use learning rate decay:\n",
    "\n",
    "    global_step = tf.Variable(0)  # count the number of steps taken.\n",
    "    learning_rate = tf.train.exponential_decay(0.5, global_step, ...)\n",
    "    optimizer = tf.train.GradientDescentOptimizer(learning_rate).minimize(loss, global_step=global_step)\n",
    " \n",
    " ---\n"
   ]
  },
  {
   "cell_type": "code",
   "execution_count": null,
   "metadata": {
    "collapsed": true
   },
   "outputs": [],
   "source": [
    "   \n",
    "    h1_layer_w = tf.Variable(tf.random_normal([784,600]))\n",
    "    h1_layer_b = tf.Variable(tf.zeros([600]))\n",
    "    h2_layer_w = tf.Variable(tf.random_normal([600,400]))\n",
    "    h2_layer_b = tf.Variable(tf.zeros([400]))\n",
    "    h3_layer_w = tf.Variable(tf.random_normal([400,100]))\n",
    "    h3_layer_b = tf.Variable(tf.zeros([100]))\n",
    "    output_layer_w = tf.Variable(tf.random_normal([100,10]))\n",
    "    output_layer_b = tf.Variable(tf.zeros([10]))"
   ]
  },
  {
   "cell_type": "code",
   "execution_count": 23,
   "metadata": {
    "collapsed": false
   },
   "outputs": [],
   "source": [
    "def feedforward_train(data,h1_l_w,h1_l_b,h2_l_w,h2_l_b,h3_l_w,h3_l_b,ol_w,ol_b):\n",
    "    temp = tf.nn.relu(tf.matmul(data,h1_l_w) + h1_l_b)\n",
    "    temp = tf.nn.dropout(temp,0.5)\n",
    "    temp = tf.nn.relu(tf.matmul(temp,h2_l_w) + h2_l_b)\n",
    "    temp = tf.nn.dropout(temp,0.5)\n",
    "    temp = tf.nn.relu(tf.matmul(temp,h3_l_w) + h3_l_b)\n",
    "    temp = tf.nn.dropout(temp,0.5)\n",
    "    temp = tf.matmul(temp,ol_w) + ol_b\n",
    "    return temp\n",
    "\n",
    "def feedforward(data,h1_l_w,h1_l_b,h2_l_w,h2_l_b,h3_l_w,h3_l_b,ol_w,ol_b):\n",
    "    temp = tf.nn.relu(tf.matmul(data,h1_l_w) + h1_l_b)\n",
    "    temp = tf.nn.relu(tf.matmul(temp,h2_l_w) + h2_l_b)\n",
    "    temp = tf.nn.relu(tf.matmul(temp,h3_l_w) + h3_l_b)\n",
    "    temp = tf.matmul(temp,ol_w) + ol_b\n",
    "    return temp\n",
    "\n",
    "batch_size = 200\n",
    "g6 = tf.Graph()\n",
    "\n",
    "with g6.as_default():\n",
    "    tf_train_dataset = tf.placeholder(tf.float32,shape = (batch_size,784))\n",
    "    tf_train_labels = tf.placeholder(tf.float32,shape = (batch_size,10))\n",
    "    tf_val_dataset = valid_dataset\n",
    "    tf_test_dataset = test_dataset\n",
    "    beta_regul = tf.placeholder(tf.float32)\n",
    "    param1 = tf.placeholder(tf.float32)\n",
    "    \n",
    "    h1_layer_w = tf.Variable(tf.truncated_normal([784,600],stddev=np.sqrt(2.0 / 784)))\n",
    "    h1_layer_b = tf.Variable(tf.zeros([600]))\n",
    "    h2_layer_w = tf.Variable(tf.truncated_normal([600,400],stddev=np.sqrt(2.0 / 600)))\n",
    "    h2_layer_b = tf.Variable(tf.zeros([400]))\n",
    "    h3_layer_w = tf.Variable(tf.truncated_normal([400,100],stddev=np.sqrt(2.0 / 400)))\n",
    "    h3_layer_b = tf.Variable(tf.zeros([100]))\n",
    "    output_layer_w = tf.Variable(tf.truncated_normal([100,10],stddev=np.sqrt(2.0 / 100)))\n",
    "    output_layer_b = tf.Variable(tf.zeros([10]))\n",
    "     \n",
    "    \n",
    "    ff = feedforward_train(tf_train_dataset,h1_layer_w,h1_layer_b,h2_layer_w,h2_layer_b,h3_layer_w,h3_layer_b,output_layer_w,output_layer_b)\n",
    "    train_prediction = tf.nn.softmax(ff)\n",
    "    loss = tf.reduce_mean(tf.nn.softmax_cross_entropy_with_logits(ff,tf_train_labels)) + beta_regul*(tf.nn.l2_loss(h1_layer_w) +\n",
    "                                                                                                     tf.nn.l2_loss(output_layer_w))\n",
    "    optimizer = tf.train.GradientDescentOptimizer(0.5/param1).minimize(loss)\n",
    "    #optimizer = tf.train.AdamOptimizer(0.5/param1).minimize(loss)\n",
    "\n",
    "    valid_prediction = tf.nn.softmax(feedforward(tf_val_dataset,h1_layer_w,h1_layer_b,h2_layer_w,h2_layer_b,h3_layer_w,h3_layer_b,output_layer_w,output_layer_b))\n",
    "    test_prediction = tf.nn.softmax(feedforward(tf_test_dataset,h1_layer_w,h1_layer_b,h2_layer_w,h2_layer_b,h3_layer_w,h3_layer_b,output_layer_w,output_layer_b))"
   ]
  },
  {
   "cell_type": "code",
   "execution_count": 24,
   "metadata": {
    "collapsed": false,
    "scrolled": true
   },
   "outputs": [
    {
     "name": "stdout",
     "output_type": "stream",
     "text": [
      "loss in iteration 0  =  2.7802\n",
      "train accuracy 12.0\n",
      "valid accuracy 10.0\n",
      "loss in iteration 50  =  6.0187\n",
      "train accuracy 10.0\n",
      "valid accuracy 10.0\n",
      "loss in iteration 100  =  34.0447\n",
      "train accuracy 9.5\n",
      "valid accuracy 10.0\n",
      "loss in iteration 150  =  32.7403\n",
      "train accuracy 14.5\n",
      "valid accuracy 10.0\n",
      "loss in iteration 200  =  45.0668\n",
      "train accuracy 11.5\n",
      "valid accuracy 10.0\n",
      "loss in iteration 250  =  59.4793\n",
      "train accuracy 16.0\n",
      "valid accuracy 10.0\n",
      "loss in iteration 300  =  62.3253\n",
      "train accuracy 10.5\n",
      "valid accuracy 10.0\n",
      "loss in iteration 350  =  101.406\n",
      "train accuracy 11.0\n",
      "valid accuracy 10.0\n",
      "loss in iteration 400  =  93.3206\n",
      "train accuracy 13.5\n",
      "valid accuracy 10.0\n",
      "loss in iteration 450  =  120.289\n",
      "train accuracy 12.5\n",
      "valid accuracy 10.0\n",
      "loss in iteration 500  =  179.108\n",
      "train accuracy 12.0\n",
      "valid accuracy 10.0\n",
      "loss in iteration 550  =  117.143\n",
      "train accuracy 8.0\n",
      "valid accuracy 10.0\n",
      "loss in iteration 600  =  168.517\n",
      "train accuracy 11.0\n",
      "valid accuracy 10.0\n",
      "loss in iteration 650  =  177.821\n",
      "train accuracy 9.5\n",
      "valid accuracy 10.0\n",
      "loss in iteration 700  =  310.569\n",
      "train accuracy 9.0\n",
      "valid accuracy 10.0\n",
      "loss in iteration 750  =  269.075\n",
      "train accuracy 10.5\n",
      "valid accuracy 10.0\n",
      "loss in iteration 800  =  291.782\n",
      "train accuracy 7.5\n",
      "valid accuracy 10.0\n",
      "loss in iteration 850  =  207.691\n",
      "train accuracy 11.0\n",
      "valid accuracy 10.0\n",
      "loss in iteration 900  =  245.232\n",
      "train accuracy 10.0\n",
      "valid accuracy 10.0\n",
      "loss in iteration 950  =  328.564\n",
      "train accuracy 9.5\n",
      "valid accuracy 10.0\n",
      "loss in iteration 1000  =  260.177\n",
      "train accuracy 13.5\n",
      "valid accuracy 10.0\n",
      "loss in iteration 1050  =  298.799\n",
      "train accuracy 10.0\n",
      "valid accuracy 10.0\n",
      "loss in iteration 1100  =  385.412\n",
      "train accuracy 12.0\n",
      "valid accuracy 10.0\n",
      "loss in iteration 1150  =  423.646\n",
      "train accuracy 6.0\n",
      "valid accuracy 10.0\n",
      "loss in iteration 1200  =  383.604\n",
      "train accuracy 11.5\n",
      "valid accuracy 10.0\n",
      "loss in iteration 1250  =  390.953\n",
      "train accuracy 13.0\n",
      "valid accuracy 10.0\n",
      "loss in iteration 1300  =  377.386\n",
      "train accuracy 11.5\n",
      "valid accuracy 10.0\n",
      "loss in iteration 1350  =  448.929\n",
      "train accuracy 9.0\n",
      "valid accuracy 10.0\n",
      "loss in iteration 1400  =  377.673\n",
      "train accuracy 14.0\n",
      "valid accuracy 10.0\n",
      "loss in iteration 1450  =  780.129\n",
      "train accuracy 9.0\n",
      "valid accuracy 10.0\n",
      "loss in iteration 1500  =  493.774\n",
      "train accuracy 8.5\n",
      "valid accuracy 10.0\n",
      "loss in iteration 1550  =  411.93\n",
      "train accuracy 12.0\n",
      "valid accuracy 10.0\n",
      "loss in iteration 1600  =  572.614\n",
      "train accuracy 11.0\n",
      "valid accuracy 10.0\n",
      "loss in iteration 1650  =  597.254\n",
      "train accuracy 8.5\n",
      "valid accuracy 10.0\n",
      "loss in iteration 1700  =  465.311\n",
      "train accuracy 13.0\n",
      "valid accuracy 10.0\n",
      "loss in iteration 1750  =  430.284\n",
      "train accuracy 12.0\n",
      "valid accuracy 10.0\n",
      "loss in iteration 1800  =  691.464\n",
      "train accuracy 9.5\n",
      "valid accuracy 10.0\n",
      "loss in iteration 1850  =  542.217\n",
      "train accuracy 7.5\n",
      "valid accuracy 10.0\n",
      "loss in iteration 1900  =  383.35\n",
      "train accuracy 10.0\n",
      "valid accuracy 10.0\n",
      "loss in iteration 1950  =  536.198\n",
      "train accuracy 12.0\n",
      "valid accuracy 10.0\n",
      "loss in iteration 2000  =  604.749\n",
      "train accuracy 12.5\n",
      "valid accuracy 10.0\n",
      "loss in iteration 2050  =  641.302\n",
      "train accuracy 9.5\n",
      "valid accuracy 10.0\n",
      "loss in iteration 2100  =  391.179\n",
      "train accuracy 8.5\n",
      "valid accuracy 10.0\n",
      "loss in iteration 2150  =  915.93\n",
      "train accuracy 10.5\n",
      "valid accuracy 10.0\n",
      "loss in iteration 2200  =  802.085\n",
      "train accuracy 10.0\n",
      "valid accuracy 10.0\n",
      "loss in iteration 2250  =  607.084\n",
      "train accuracy 9.5\n",
      "valid accuracy 10.0\n",
      "loss in iteration 2300  =  819.931\n",
      "train accuracy 8.5\n",
      "valid accuracy 10.0\n",
      "loss in iteration 2350  =  944.818\n",
      "train accuracy 9.5\n",
      "valid accuracy 10.0\n",
      "loss in iteration 2400  =  952.315\n",
      "train accuracy 10.0\n",
      "valid accuracy 10.0\n",
      "loss in iteration 2450  =  932.201\n",
      "train accuracy 10.0\n",
      "valid accuracy 10.0\n",
      "loss in iteration 2500  =  918.18\n",
      "train accuracy 8.5\n",
      "valid accuracy 10.0\n",
      "loss in iteration 2550  =  547.417\n",
      "train accuracy 13.0\n",
      "valid accuracy 10.0\n",
      "loss in iteration 2600  =  895.759\n",
      "train accuracy 10.0\n",
      "valid accuracy 10.0\n",
      "loss in iteration 2650  =  1022.31\n",
      "train accuracy 10.0\n",
      "valid accuracy 10.0\n",
      "loss in iteration 2700  =  586.117\n",
      "train accuracy 8.5\n",
      "valid accuracy 10.0\n",
      "loss in iteration 2750  =  713.866\n",
      "train accuracy 12.0\n",
      "valid accuracy 10.0\n",
      "loss in iteration 2800  =  625.989\n",
      "train accuracy 14.0\n",
      "valid accuracy 10.0\n",
      "loss in iteration 2850  =  693.573\n",
      "train accuracy 11.5\n",
      "valid accuracy 10.0\n",
      "loss in iteration 2900  =  814.172\n",
      "train accuracy 11.0\n",
      "valid accuracy 10.0\n",
      "loss in iteration 2950  =  948.277\n",
      "train accuracy 11.0\n",
      "valid accuracy 10.0\n",
      "test accuracy 10.0\n"
     ]
    }
   ],
   "source": [
    "iterations = 3000\n",
    "\n",
    "with tf.Session(graph=g6) as sess:\n",
    "    sess.run(tf.initialize_all_variables())\n",
    "    for i in range(iterations):\n",
    "        start = (i*batch_size)% (train_labels.shape[0] - batch_size)\n",
    "        end = start+batch_size\n",
    "        train_subset = train_dataset[start:end,:]\n",
    "        train_l_subset = train_labels[start:end,:]\n",
    "        #beta_regul = 1e-3\n",
    "        feed_d = {tf_train_dataset:train_subset,tf_train_labels:train_l_subset,beta_regul:0,param1:1.0/(i+10)}\n",
    "        _,l = sess.run([optimizer,loss],feed_dict=feed_d)\n",
    "        \n",
    "        if i%50 == 0:\n",
    "            print (\"loss in iteration\",i,\" = \",l)\n",
    "            print (\"train accuracy\", accuracy(sess.run(train_prediction,feed_dict=feed_d),train_l_subset))\n",
    "            print (\"valid accuracy\", accuracy(valid_prediction.eval(),valid_labels))\n",
    "    print (\"test accuracy\", accuracy(test_prediction.eval(),test_labels))"
   ]
  },
  {
   "cell_type": "code",
   "execution_count": 180,
   "metadata": {
    "collapsed": false
   },
   "outputs": [],
   "source": [
    "def feedforward_train(data,   h1_l_w,h1_l_b,   h2_l_w,h2_l_b,    h3_l_w,h3_l_b,    ol_w,ol_b):\n",
    "    layer_1_result = tf.nn.relu(tf.matmul(data,h1_l_w) + h1_l_b)\n",
    "    layer_1_result = tf.nn.dropout(layer_1_result,0.5)\n",
    "    layer_2_result = tf.nn.relu(tf.matmul(layer_1_result,h2_l_w) + h2_l_b)\n",
    "    layer_2_result = tf.nn.dropout(layer_2_result,0.5)\n",
    "    temp = tf.matmul(layer_2_result,ol_w) + ol_b\n",
    "    return temp\n",
    "\n",
    "def feedforward(data,   h1_l_w,h1_l_b,   h2_l_w,h2_l_b,    h3_l_w,h3_l_b,    ol_w,ol_b):\n",
    "    layer_1_result = tf.nn.relu(tf.matmul(data,h1_l_w) + h1_l_b)\n",
    "    layer_2_result = tf.nn.relu(tf.matmul(layer_1_result,h2_l_w) + h2_l_b)\n",
    "    temp = tf.matmul(layer_2_result,ol_w) + ol_b\n",
    "    return temp\n",
    "\n",
    "\n",
    "batch_size = 2000\n",
    "g7 = tf.Graph()\n",
    "with g7.as_default():\n",
    "    tf_train_dataset = tf.placeholder(tf.float32,shape = (batch_size,784))\n",
    "    tf_train_labels = tf.placeholder(tf.float32,shape = (batch_size,10))\n",
    "    tf_val_dataset = valid_dataset\n",
    "    tf_test_dataset = test_dataset\n",
    "    #beta_regul = tf.placeholder(tf.float32)\n",
    "    \n",
    "    h1_layer_w = tf.Variable(tf.truncated_normal([784,1024], stddev=np.sqrt(2.0 / 784)))\n",
    "    h1_layer_b = tf.Variable(tf.zeros([1024]))\n",
    "    h2_layer_w = tf.Variable(tf.truncated_normal([1024,100], stddev=np.sqrt(2.0 / 1024)))\n",
    "    h2_layer_b = tf.Variable(tf.zeros([100]))\n",
    "    h3_layer_w = 1#tf.Variable(tf.truncated_normal([400,200]))\n",
    "    h3_layer_b = 1#tf.Variable(tf.zeros([200]))\n",
    "    output_layer_w = tf.Variable(tf.truncated_normal([100,10], stddev=np.sqrt(2.0 / 100)))\n",
    "    output_layer_b = tf.Variable(tf.zeros([10]))\n",
    "    \n",
    "    \n",
    "    weights1 = tf.Variable(\n",
    "    tf.truncated_normal(\n",
    "        [image_size * image_size, 1024],\n",
    "        stddev=np.sqrt(2.0 / (image_size * image_size)))\n",
    "    )\n",
    "    biases1 = tf.Variable(tf.zeros([1024]))\n",
    "    weights2 = tf.Variable(\n",
    "    tf.truncated_normal([1024, 100], stddev=np.sqrt(2.0 / num_hidden_nodes1)))\n",
    "    biases2 = tf.Variable(tf.zeros([100]))\n",
    "    weights3 = tf.Variable(\n",
    "    tf.truncated_normal([num_hidden_nodes2, num_labels], stddev=np.sqrt(2.0 / num_hidden_nodes2)))\n",
    "    biases3 = tf.Variable(tf.zeros([num_labels]))\n",
    "\n",
    "    \n",
    "    logits = feedforward_train(tf_train_dataset,h1_layer_w,h1_layer_b,h2_layer_w,h2_layer_b,h3_layer_w,h3_layer_b,output_layer_w,output_layer_b)\n",
    "    #logits = feedforward_train(tf_train_dataset,weights1,biases1,weights2,biases2,1,1,weights3,biases3)\n",
    "    train_prediction = tf.nn.softmax(logits)\n",
    "    loss = tf.reduce_mean(tf.nn.softmax_cross_entropy_with_logits(logits,tf_train_labels))\n",
    "    optimizer = tf.train.GradientDescentOptimizer(0.5).minimize(loss)\n",
    "    \n",
    "    valid_prediction = tf.nn.softmax(feedforward(tf_val_dataset,h1_layer_w,h1_layer_b,h2_layer_w,h2_layer_b,h3_layer_w,h3_layer_b,output_layer_w,output_layer_b))\n",
    "    test_prediction = tf.nn.softmax(feedforward(tf_test_dataset,h1_layer_w,h1_layer_b,h2_layer_w,h2_layer_b,h3_layer_w,h3_layer_b,output_layer_w,output_layer_b))\n",
    "    \n",
    "    #valid_prediction = tf.nn.softmax(feedforward(tf_val_dataset,weights1,biases1,weights2,biases2,1,1,weights3,biases3))\n",
    "\n",
    "    #test_prediction = tf.nn.softmax(feedforward(tf_test_dataset,weights1,biases1,weights2,biases2,1,1,weights3,biases3))"
   ]
  },
  {
   "cell_type": "code",
   "execution_count": 179,
   "metadata": {
    "collapsed": false,
    "scrolled": true
   },
   "outputs": [
    {
     "name": "stdout",
     "output_type": "stream",
     "text": [
      "loss in iteration 0  =  2.73074\n",
      "train accuracy 28.65\n",
      "valid accuracy 42.7\n",
      "loss in iteration 100  =  0.63239\n",
      "train accuracy 80.75\n",
      "valid accuracy 84.35\n",
      "loss in iteration 200  =  0.560704\n",
      "train accuracy 83.25\n",
      "valid accuracy 85.17\n",
      "test accuracy 91.9\n"
     ]
    }
   ],
   "source": [
    "iterations = 300\n",
    "\n",
    "with tf.Session(graph=g7) as sess:\n",
    "    sess.run(tf.initialize_all_variables())\n",
    "    for i in range(iterations):\n",
    "        start = (i*batch_size)% (train_labels.shape[0] - batch_size)\n",
    "        end = start+batch_size\n",
    "        train_subset = train_dataset[start:end,:]\n",
    "        train_l_subset = train_labels[start:end,:]\n",
    "        #beta_regul = 1e-3\n",
    "        feed_d = {tf_train_dataset:train_subset,tf_train_labels:train_l_subset}\n",
    "        _,l = sess.run([optimizer,loss],feed_dict=feed_d)\n",
    "        \n",
    "        if i%100 == 0:\n",
    "            print (\"loss in iteration\",i,\" = \",l)\n",
    "            print (\"train accuracy\", accuracy(sess.run(train_prediction,feed_dict=feed_d),train_l_subset))\n",
    "            print (\"valid accuracy\", accuracy(valid_prediction.eval(),valid_labels))\n",
    "    print (\"test accuracy\", accuracy(test_prediction.eval(),test_labels))"
   ]
  },
  {
   "cell_type": "code",
   "execution_count": null,
   "metadata": {
    "collapsed": true
   },
   "outputs": [],
   "source": []
  },
  {
   "cell_type": "code",
   "execution_count": 162,
   "metadata": {
    "collapsed": true
   },
   "outputs": [],
   "source": [
    "def feedforward_train(data,   h1_l_w,h1_l_b,   h2_l_w,h2_l_b,    h3_l_w,h3_l_b,    ol_w,ol_b):\n",
    "    layer_1_result = tf.nn.relu(tf.matmul(data,h1_l_w) + h1_l_b)\n",
    "    layer_1_result = tf.nn.dropout(layer_1_result,0.5)\n",
    "    layer_2_result = tf.nn.relu(tf.matmul(layer_1_result,h2_l_w) + h2_l_b)\n",
    "    layer_2_result = tf.nn.dropout(layer_2_result,0.5)\n",
    "    temp = tf.matmul(layer_2_result,ol_w) + ol_b\n",
    "    return temp\n",
    "\n",
    "def feedforward(data,   h1_l_w,h1_l_b,   h2_l_w,h2_l_b,    h3_l_w,h3_l_b,    ol_w,ol_b):\n",
    "    layer_1_result = tf.nn.relu(tf.matmul(data,h1_l_w) + h1_l_b)\n",
    "    layer_2_result = tf.nn.relu(tf.matmul(layer_1_result,h2_l_w) + h2_l_b)\n",
    "    temp = tf.matmul(layer_2_result,ol_w) + ol_b\n",
    "    return temp"
   ]
  },
  {
   "cell_type": "code",
   "execution_count": 175,
   "metadata": {
    "collapsed": false
   },
   "outputs": [],
   "source": [
    "batch_size = 128\n",
    "num_hidden_nodes1 = 1024\n",
    "num_hidden_nodes2 = 100\n",
    "beta_regul = 1e-3\n",
    "\n",
    "g8 = tf.Graph()\n",
    "with g8.as_default():\n",
    "\n",
    "  # Input data. For the training data, we use a placeholder that will be fed\n",
    "  # at run time with a training minibatch.\n",
    "  tf_train_dataset = tf.placeholder(tf.float32,\n",
    "                                    shape=(batch_size, image_size * image_size))\n",
    "  tf_train_labels = tf.placeholder(tf.float32, shape=(batch_size, num_labels))\n",
    "  tf_valid_dataset = tf.constant(valid_dataset)\n",
    "  tf_test_dataset = tf.constant(test_dataset)\n",
    "  global_step = tf.Variable(0)\n",
    "\n",
    "  # Variables.\n",
    "  weights1 = tf.Variable(\n",
    "    tf.truncated_normal(\n",
    "        [image_size * image_size, num_hidden_nodes1] ,stddev=np.sqrt(2.0 / (image_size * image_size))))\n",
    "  biases1 = tf.Variable(tf.zeros([num_hidden_nodes1]))\n",
    "  weights2 = tf.Variable(\n",
    "    tf.truncated_normal([num_hidden_nodes1, num_hidden_nodes2], stddev=np.sqrt(2.0 / num_hidden_nodes1)))\n",
    "  biases2 = tf.Variable(tf.zeros([num_hidden_nodes2]))\n",
    "  weights3 = tf.Variable(\n",
    "    tf.truncated_normal([num_hidden_nodes2, num_labels], stddev=np.sqrt(2.0 / num_hidden_nodes2)))\n",
    "  biases3 = tf.Variable(tf.zeros([num_labels]))\n",
    "  \n",
    "  # Training computation.\n",
    "  #lay1_train = tf.nn.relu(tf.matmul(tf_train_dataset, weights1) + biases1)\n",
    "  #lay2_train = tf.nn.relu(tf.matmul(lay1_train, weights2) + biases2)\n",
    "  #logits = tf.matmul(lay2_train, weights3) + biases3\n",
    "  logits = feedforward_train(tf_train_dataset,weights1,biases1,weights2,biases2,1,1,weights3,biases3)\n",
    "  loss = tf.reduce_mean(\n",
    "    tf.nn.softmax_cross_entropy_with_logits(logits, tf_train_labels)) + \\\n",
    "      beta_regul * (tf.nn.l2_loss(weights1) + tf.nn.l2_loss(weights2) + tf.nn.l2_loss(weights3))\n",
    "  \n",
    "  # Optimizer.\n",
    "  learning_rate = tf.train.exponential_decay(0.5, global_step, 1000, 0.65, staircase=True)\n",
    "  optimizer = tf.train.GradientDescentOptimizer(learning_rate).minimize(loss, global_step=global_step)\n",
    "  \n",
    "  # Predictions for the training, validation, and test data.\n",
    "  train_prediction = tf.nn.softmax(logits)\n",
    "  #lay1_valid = tf.nn.relu(tf.matmul(tf_valid_dataset, weights1) + biases1)\n",
    "  #lay2_valid = tf.nn.relu(tf.matmul(lay1_valid, weights2) + biases2)\n",
    "  valid_prediction = tf.nn.softmax(feedforward(tf_valid_dataset,weights1,biases1,weights2,biases2,1,1,weights3,biases3))\n",
    "  #lay1_test = tf.nn.relu(tf.matmul(tf_test_dataset, weights1) + biases1)\n",
    "  #lay2_test = tf.nn.relu(tf.matmul(lay1_test, weights2) + biases2)\n",
    "  test_prediction = tf.nn.softmax(feedforward_train(tf_test_dataset,weights1,biases1,weights2,biases2,1,1,weights3,biases3))"
   ]
  },
  {
   "cell_type": "code",
   "execution_count": 177,
   "metadata": {
    "collapsed": false
   },
   "outputs": [
    {
     "name": "stdout",
     "output_type": "stream",
     "text": [
      "initilized\n",
      "loss in iteration 0  =  3.47102\n",
      "train accuracy 35.9375\n",
      "valid accuracy 27.51\n",
      "loss in iteration 100  =  1.75462\n",
      "train accuracy 75.78125\n",
      "valid accuracy 81.74\n",
      "loss in iteration 200  =  1.48833\n",
      "train accuracy 84.375\n",
      "valid accuracy 83.44\n",
      "test accuracy 87.4\n"
     ]
    }
   ],
   "source": [
    "iterations = 300\n",
    "\n",
    "with tf.Session(graph=g8) as sess:\n",
    "    sess.run(tf.initialize_all_variables())\n",
    "    print (\"initilized\")\n",
    "    for i in range(iterations):\n",
    "        start = (i*batch_size)% (train_labels.shape[0] - batch_size)\n",
    "        end = start+batch_size\n",
    "        train_subset = train_dataset[start:end,:]\n",
    "        train_l_subset = train_labels[start:end,:]\n",
    "        #beta_regul = 1e-3\n",
    "        feed_d = {tf_train_dataset:train_subset,tf_train_labels:train_l_subset}\n",
    "        _,l = sess.run([optimizer,loss],feed_dict=feed_d)\n",
    "        \n",
    "        if i%100 == 0:\n",
    "            print (\"loss in iteration\",i,\" = \",l)\n",
    "            print (\"train accuracy\", accuracy(sess.run(train_prediction,feed_dict=feed_d),train_l_subset))\n",
    "            print (\"valid accuracy\", accuracy(valid_prediction.eval(),valid_labels))\n",
    "    print (\"test accuracy\", accuracy(test_prediction.eval(),test_labels))"
   ]
  },
  {
   "cell_type": "code",
   "execution_count": 176,
   "metadata": {
    "collapsed": false,
    "scrolled": true
   },
   "outputs": [
    {
     "name": "stdout",
     "output_type": "stream",
     "text": [
      "Initialized\n",
      "Minibatch loss at step 0: 3.513977\n",
      "Minibatch accuracy: 10.2%\n",
      "Validation accuracy: 37.7%\n",
      "Minibatch loss at step 100: 1.711253\n",
      "Minibatch accuracy: 75.0%\n",
      "Validation accuracy: 81.8%\n",
      "Minibatch loss at step 200: 1.508261\n",
      "Minibatch accuracy: 81.2%\n",
      "Validation accuracy: 83.2%\n",
      "Minibatch loss at step 300: 1.731425\n",
      "Minibatch accuracy: 75.8%\n",
      "Validation accuracy: 83.1%\n",
      "Minibatch loss at step 400: 1.395843\n",
      "Minibatch accuracy: 78.9%\n",
      "Validation accuracy: 83.7%\n",
      "Test accuracy: 89.1%\n"
     ]
    }
   ],
   "source": [
    "num_steps = 500\n",
    "\n",
    "with tf.Session(graph=g8) as session:\n",
    "  tf.initialize_all_variables().run()\n",
    "  print(\"Initialized\")\n",
    "  for step in range(num_steps):\n",
    "    # Pick an offset within the training data, which has been randomized.\n",
    "    # Note: we could use better randomization across epochs.\n",
    "    offset = (step * batch_size) % (train_labels.shape[0] - batch_size)\n",
    "    # Generate a minibatch.\n",
    "    batch_data = train_dataset[offset:(offset + batch_size), :]\n",
    "    batch_labels = train_labels[offset:(offset + batch_size), :]\n",
    "    # Prepare a dictionary telling the session where to feed the minibatch.\n",
    "    # The key of the dictionary is the placeholder node of the graph to be fed,\n",
    "    # and the value is the numpy array to feed to it.\n",
    "    feed_dict = {tf_train_dataset : batch_data, tf_train_labels : batch_labels}\n",
    "    _, l, predictions = session.run(\n",
    "      [optimizer, loss, train_prediction], feed_dict=feed_dict)\n",
    "    if (step % 100 == 0):\n",
    "      print(\"Minibatch loss at step %d: %f\" % (step, l))\n",
    "      print(\"Minibatch accuracy: %.1f%%\" % accuracy(predictions, batch_labels))\n",
    "      print(\"Validation accuracy: %.1f%%\" % accuracy(\n",
    "        valid_prediction.eval(), valid_labels))\n",
    "  print(\"Test accuracy: %.1f%%\" % accuracy(test_prediction.eval(), test_labels))"
   ]
  },
  {
   "cell_type": "code",
   "execution_count": 186,
   "metadata": {
    "collapsed": true
   },
   "outputs": [],
   "source": [
    "batch_size = 128\n",
    "num_hidden_nodes1 = 1024\n",
    "num_hidden_nodes2 = 100\n",
    "beta_regul = 1e-3\n",
    "\n",
    "graph = tf.Graph()\n",
    "with graph.as_default():\n",
    "\n",
    "  # Input data. For the training data, we use a placeholder that will be fed\n",
    "  # at run time with a training minibatch.\n",
    "  tf_train_dataset = tf.placeholder(tf.float32,\n",
    "                                    shape=(batch_size, image_size * image_size))\n",
    "  tf_train_labels = tf.placeholder(tf.float32, shape=(batch_size, num_labels))\n",
    "  tf_valid_dataset = tf.constant(valid_dataset)\n",
    "  tf_test_dataset = tf.constant(test_dataset)\n",
    "  global_step = tf.Variable(0)\n",
    "\n",
    "  # Variables.\n",
    "  weights1 = tf.Variable(\n",
    "    tf.truncated_normal(\n",
    "        [image_size * image_size, num_hidden_nodes1],\n",
    "        stddev=np.sqrt(2.0 / (image_size * image_size)))\n",
    "    )\n",
    "  biases1 = tf.Variable(tf.zeros([num_hidden_nodes1]))\n",
    "  weights2 = tf.Variable(\n",
    "    tf.truncated_normal([num_hidden_nodes1, num_hidden_nodes2], stddev=np.sqrt(2.0 / num_hidden_nodes1)))\n",
    "  biases2 = tf.Variable(tf.zeros([num_hidden_nodes2]))\n",
    "  weights3 = tf.Variable(\n",
    "    tf.truncated_normal([num_hidden_nodes2, num_labels], stddev=np.sqrt(2.0 / num_hidden_nodes2)))\n",
    "  biases3 = tf.Variable(tf.zeros([num_labels]))\n",
    "  \n",
    "  # Training computation.\n",
    "  lay1_train = tf.nn.relu(tf.matmul(tf_train_dataset, weights1) + biases1)\n",
    "  lay2_train = tf.nn.relu(tf.matmul(lay1_train, weights2) + biases2)\n",
    "  logits = tf.matmul(lay2_train, weights3) + biases3\n",
    "  loss = tf.reduce_mean(\n",
    "    tf.nn.softmax_cross_entropy_with_logits(logits, tf_train_labels)) + \\\n",
    "      beta_regul * (tf.nn.l2_loss(weights1) + tf.nn.l2_loss(weights2) + tf.nn.l2_loss(weights3))\n",
    "  \n",
    "  # Optimizer.\n",
    "  learning_rate = tf.train.exponential_decay(0.5, global_step, 1000, 0.65, staircase=True)\n",
    "  optimizer = tf.train.GradientDescentOptimizer(learning_rate).minimize(loss, global_step=global_step)\n",
    "  \n",
    "  # Predictions for the training, validation, and test data.\n",
    "  train_prediction = tf.nn.softmax(logits)\n",
    "  lay1_valid = tf.nn.relu(tf.matmul(tf_valid_dataset, weights1) + biases1)\n",
    "  lay2_valid = tf.nn.relu(tf.matmul(lay1_valid, weights2) + biases2)\n",
    "  valid_prediction = tf.nn.softmax(tf.matmul(lay2_valid, weights3) + biases3)\n",
    "  lay1_test = tf.nn.relu(tf.matmul(tf_test_dataset, weights1) + biases1)\n",
    "  lay2_test = tf.nn.relu(tf.matmul(lay1_test, weights2) + biases2)\n",
    "  test_prediction = tf.nn.softmax(tf.matmul(lay2_test, weights3) + biases3)"
   ]
  },
  {
   "cell_type": "code",
   "execution_count": 187,
   "metadata": {
    "collapsed": false
   },
   "outputs": [
    {
     "name": "stdout",
     "output_type": "stream",
     "text": [
      "Initialized\n",
      "Minibatch loss at step 0: 3.312616\n",
      "Minibatch accuracy: 7.8%\n",
      "Validation accuracy: 27.1%\n",
      "Minibatch loss at step 1000: 0.916887\n",
      "Minibatch accuracy: 81.2%\n",
      "Validation accuracy: 87.2%\n",
      "Minibatch loss at step 2000: 0.632886\n",
      "Minibatch accuracy: 87.5%\n",
      "Validation accuracy: 88.5%\n",
      "Minibatch loss at step 3000: 0.561764\n",
      "Minibatch accuracy: 89.1%\n",
      "Validation accuracy: 89.4%\n",
      "Minibatch loss at step 4000: 0.396751\n",
      "Minibatch accuracy: 93.0%\n",
      "Validation accuracy: 89.7%\n",
      "Minibatch loss at step 5000: 0.468482\n",
      "Minibatch accuracy: 89.8%\n",
      "Validation accuracy: 90.0%\n",
      "Minibatch loss at step 6000: 0.465835\n",
      "Minibatch accuracy: 87.5%\n",
      "Validation accuracy: 90.1%\n",
      "Minibatch loss at step 7000: 0.441074\n",
      "Minibatch accuracy: 88.3%\n",
      "Validation accuracy: 90.6%\n",
      "Minibatch loss at step 8000: 0.608504\n",
      "Minibatch accuracy: 86.7%\n",
      "Validation accuracy: 90.5%\n",
      "Minibatch loss at step 9000: 0.354365\n",
      "Minibatch accuracy: 93.8%\n",
      "Validation accuracy: 90.5%\n",
      "Test accuracy: 95.6%\n"
     ]
    }
   ],
   "source": [
    "num_steps = 9001\n",
    "\n",
    "with tf.Session(graph=graph) as session:\n",
    "  tf.initialize_all_variables().run()\n",
    "  print(\"Initialized\")\n",
    "  for step in range(num_steps):\n",
    "    # Pick an offset within the training data, which has been randomized.\n",
    "    # Note: we could use better randomization across epochs.\n",
    "    offset = (step * batch_size) % (train_labels.shape[0] - batch_size)\n",
    "    # Generate a minibatch.\n",
    "    batch_data = train_dataset[offset:(offset + batch_size), :]\n",
    "    batch_labels = train_labels[offset:(offset + batch_size), :]\n",
    "    # Prepare a dictionary telling the session where to feed the minibatch.\n",
    "    # The key of the dictionary is the placeholder node of the graph to be fed,\n",
    "    # and the value is the numpy array to feed to it.\n",
    "    feed_dict = {tf_train_dataset : batch_data, tf_train_labels : batch_labels}\n",
    "    _, l, predictions = session.run(\n",
    "      [optimizer, loss, train_prediction], feed_dict=feed_dict)\n",
    "    if (step % 1000 == 0):\n",
    "      print(\"Minibatch loss at step %d: %f\" % (step, l))\n",
    "      print(\"Minibatch accuracy: %.1f%%\" % accuracy(predictions, batch_labels))\n",
    "      print(\"Validation accuracy: %.1f%%\" % accuracy(\n",
    "        valid_prediction.eval(), valid_labels))\n",
    "  print(\"Test accuracy: %.1f%%\" % accuracy(test_prediction.eval(), test_labels))"
   ]
  },
  {
   "cell_type": "code",
   "execution_count": null,
   "metadata": {
    "collapsed": true
   },
   "outputs": [],
   "source": []
  }
 ],
 "metadata": {
  "colab": {
   "default_view": {},
   "name": "3_regularization.ipynb",
   "provenance": [],
   "version": "0.3.2",
   "views": {}
  },
  "kernelspec": {
   "display_name": "Python 2",
   "language": "python",
   "name": "python2"
  },
  "language_info": {
   "codemirror_mode": {
    "name": "ipython",
    "version": 2
   },
   "file_extension": ".py",
   "mimetype": "text/x-python",
   "name": "python",
   "nbconvert_exporter": "python",
   "pygments_lexer": "ipython2",
   "version": "2.7.11"
  }
 },
 "nbformat": 4,
 "nbformat_minor": 0
}
